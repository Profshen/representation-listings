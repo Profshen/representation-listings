{
 "cells": [
  {
   "cell_type": "markdown",
   "metadata": {},
   "source": [
    "# Store tracts and rental listings in PostGIS\n",
    "\n",
    "...for a fast spatial-join of listings to tracts.\n",
    "\n",
    "First, create the database from command prompt if it doesn't already exist:\n",
    "\n",
    "```\n",
    "createdb -U postgres craigslist_tracts\n",
    "psql -U postgres -d craigslist_tracts -c \"CREATE EXTENSION postgis;\"\n",
    "```\n",
    "\n",
    "More info in the psycopg2 docs: http://initd.org/psycopg/docs/usage.html"
   ]
  },
  {
   "cell_type": "code",
   "execution_count": 1,
   "metadata": {},
   "outputs": [],
   "source": [
    "import geopandas as gpd\n",
    "import pandas as pd\n",
    "import psycopg2\n",
    "from shapely.geometry import Point\n",
    "from keys import pg_user, pg_pass, pg_host, pg_port, pg_db\n",
    "\n",
    "crs = {'init' : 'epsg:4326'}"
   ]
  },
  {
   "cell_type": "code",
   "execution_count": 2,
   "metadata": {},
   "outputs": [
    {
     "name": "stdout",
     "output_type": "stream",
     "text": [
      "74133\n",
      "Wall time: 36.7 s\n"
     ]
    }
   ],
   "source": [
    "%%time\n",
    "# load tracts and project to 4326\n",
    "tracts = gpd.read_file('data/us_census_tracts_2014')\n",
    "tracts = tracts.to_crs(crs)\n",
    "print(len(tracts))"
   ]
  },
  {
   "cell_type": "code",
   "execution_count": 3,
   "metadata": {},
   "outputs": [
    {
     "name": "stdout",
     "output_type": "stream",
     "text": [
      "1393426\n",
      "Wall time: 51.5 s\n"
     ]
    }
   ],
   "source": [
    "%%time\n",
    "# load listings and set initial crs to 4326\n",
    "listings = pd.read_csv('data/craigslist_listings_cleaned.csv')\n",
    "geometry = listings.apply(lambda row: Point((row['lng'], row['lat'])), axis=1)\n",
    "listings = gpd.GeoDataFrame(listings, geometry=geometry, crs=crs)\n",
    "print(len(listings))"
   ]
  },
  {
   "cell_type": "code",
   "execution_count": 4,
   "metadata": {},
   "outputs": [],
   "source": [
    "assert tracts.crs == listings.crs\n",
    "# srid is the numeric spatial reference ID PostGIS uses\n",
    "srid = tracts.crs['init'].strip('epsg:')"
   ]
  },
  {
   "cell_type": "code",
   "execution_count": 5,
   "metadata": {},
   "outputs": [],
   "source": [
    "#listings = listings.sample(1000)\n",
    "#tracts = tracts[['GEOID', 'ALAND', 'geometry']].sample(1000)"
   ]
  },
  {
   "cell_type": "markdown",
   "metadata": {},
   "source": [
    "## Upload tracts and listings to PostGIS"
   ]
  },
  {
   "cell_type": "code",
   "execution_count": 6,
   "metadata": {},
   "outputs": [],
   "source": [
    "connection = psycopg2.connect(database=pg_db,\n",
    "                              user=pg_user,\n",
    "                              password=pg_pass,\n",
    "                              host=pg_host,\n",
    "                              port=pg_port)\n",
    "cursor = connection.cursor()"
   ]
  },
  {
   "cell_type": "code",
   "execution_count": 7,
   "metadata": {},
   "outputs": [
    {
     "data": {
      "text/plain": [
       "[('listings_tracts',), ('spatial_ref_sys',), ('listings',), ('tracts',)]"
      ]
     },
     "execution_count": 7,
     "metadata": {},
     "output_type": "execute_result"
    }
   ],
   "source": [
    "# list all tables\n",
    "cursor.execute(\"select relname from pg_class where relkind='r' and relname !~ '^(pg_|sql_)'\")\n",
    "cursor.fetchall()"
   ]
  },
  {
   "cell_type": "markdown",
   "metadata": {},
   "source": [
    "#### add tracts table"
   ]
  },
  {
   "cell_type": "code",
   "execution_count": 8,
   "metadata": {},
   "outputs": [],
   "source": [
    "# drop tracts table if it already exists, then create tracts table\n",
    "cursor.execute(\"DROP TABLE IF EXISTS tracts\")\n",
    "cursor.execute(\"CREATE TABLE tracts (id SERIAL PRIMARY KEY, geoid VARCHAR NOT NULL, aland BIGINT NOT NULL)\")\n",
    "cursor.execute(\"SELECT AddGeometryColumn ('tracts', 'geom', %s, 'MULTIPOLYGON', 2)\", [srid])\n",
    "cursor.execute(\"CREATE INDEX tract_index ON tracts USING GIST(geom)\")\n",
    "connection.commit()"
   ]
  },
  {
   "cell_type": "code",
   "execution_count": 9,
   "metadata": {},
   "outputs": [
    {
     "name": "stdout",
     "output_type": "stream",
     "text": [
      "Wall time: 2min 54s\n"
     ]
    }
   ],
   "source": [
    "%%time\n",
    "cursor.execute(\"DELETE FROM tracts\")\n",
    "\n",
    "# insert each tract into the tracts table one at a time\n",
    "for label, row in tracts.iterrows():\n",
    "    geoid = row['GEOID']\n",
    "    aland = row['ALAND']\n",
    "    geometry_wkt = row['geometry'].wkt\n",
    "    \n",
    "    query = \"\"\"INSERT INTO tracts (geoid, aland, geom) \n",
    "               VALUES (%s, %s, ST_Multi(ST_GeomFromText(%s, %s)))\"\"\"\n",
    "    data = (geoid, aland, geometry_wkt, srid)\n",
    "    cursor.execute(query, data)\n",
    "\n",
    "connection.commit()"
   ]
  },
  {
   "cell_type": "markdown",
   "metadata": {},
   "source": [
    "#### add listings table"
   ]
  },
  {
   "cell_type": "code",
   "execution_count": 10,
   "metadata": {},
   "outputs": [],
   "source": [
    "# drop listings table if it already exists, then create listings table\n",
    "cursor.execute(\"DROP TABLE IF EXISTS listings\")\n",
    "cursor.execute(\"\"\"CREATE TABLE listings (id SERIAL PRIMARY KEY,\n",
    "                                         date VARCHAR NOT NULL,\n",
    "                                         region VARCHAR NOT NULL,\n",
    "                                         bedrooms INTEGER,\n",
    "                                         rent REAL,\n",
    "                                         sqft REAL)\"\"\")\n",
    "cursor.execute(\"SELECT AddGeometryColumn ('listings', 'geom', %s, 'POINT', 2)\", [srid])\n",
    "cursor.execute(\"CREATE INDEX listing_index ON listings USING GIST(geom)\")\n",
    "connection.commit()"
   ]
  },
  {
   "cell_type": "code",
   "execution_count": 11,
   "metadata": {},
   "outputs": [
    {
     "name": "stdout",
     "output_type": "stream",
     "text": [
      "Wall time: 7min 22s\n"
     ]
    }
   ],
   "source": [
    "%%time\n",
    "cursor.execute(\"DELETE FROM listings\")\n",
    "\n",
    "# insert each listing into the listings table one at a time\n",
    "for label, row in listings.iterrows():\n",
    "    date = row['date']\n",
    "    region = row['region']\n",
    "    bedrooms = row['bedrooms']\n",
    "    rent = row['rent']\n",
    "    sqft = row['sqft']\n",
    "    geometry_wkt = row['geometry'].wkt\n",
    "    \n",
    "    # bedrooms can be null, but must be None for psycopg2 to insert it as a null value, not a 'NaN' string\n",
    "    if pd.isnull(bedrooms):\n",
    "        bedrooms = None\n",
    "    \n",
    "    query = \"\"\"\n",
    "            INSERT INTO listings (date, region, bedrooms, rent, sqft, geom)\n",
    "            VALUES (%s, %s, %s, %s, %s, ST_GeomFromText(%s, %s))\n",
    "            \"\"\"\n",
    "    data = (date, region, bedrooms, rent, sqft, geometry_wkt, srid)\n",
    "    cursor.execute(query, data)\n",
    "\n",
    "connection.commit()"
   ]
  },
  {
   "cell_type": "markdown",
   "metadata": {},
   "source": [
    "#### optimize the database"
   ]
  },
  {
   "cell_type": "code",
   "execution_count": 12,
   "metadata": {},
   "outputs": [
    {
     "name": "stdout",
     "output_type": "stream",
     "text": [
      "Wall time: 4.32 s\n"
     ]
    }
   ],
   "source": [
    "%%time\n",
    "# vacuum and analyze the database to optimize it after building indices and inserting rows\n",
    "original_isolation_level = connection.isolation_level\n",
    "connection.set_isolation_level(0)\n",
    "cursor.execute(\"VACUUM ANALYZE\")\n",
    "connection.commit()\n",
    "connection.set_isolation_level(original_isolation_level)"
   ]
  },
  {
   "cell_type": "markdown",
   "metadata": {},
   "source": [
    "#### verify SRIDs, row counts, and data"
   ]
  },
  {
   "cell_type": "code",
   "execution_count": 13,
   "metadata": {},
   "outputs": [
    {
     "data": {
      "text/plain": [
       "[(4326, 4326)]"
      ]
     },
     "execution_count": 13,
     "metadata": {},
     "output_type": "execute_result"
    }
   ],
   "source": [
    "# look up the SRIDs\n",
    "cursor.execute(\"\"\"SELECT\n",
    "                   Find_SRID('public', 'tracts', 'geom') as tracts_srid,\n",
    "                   Find_SRID('public', 'listings', 'geom') as listings_srid\"\"\")\n",
    "cursor.fetchall()"
   ]
  },
  {
   "cell_type": "code",
   "execution_count": 14,
   "metadata": {},
   "outputs": [
    {
     "data": {
      "text/plain": [
       "74133"
      ]
     },
     "execution_count": 14,
     "metadata": {},
     "output_type": "execute_result"
    }
   ],
   "source": [
    "cursor.execute(\"SELECT count(*) AS exact_count FROM tracts\")\n",
    "rows = cursor.fetchall()\n",
    "rows[0][0]"
   ]
  },
  {
   "cell_type": "code",
   "execution_count": 15,
   "metadata": {},
   "outputs": [
    {
     "data": {
      "text/html": [
       "<div>\n",
       "<style scoped>\n",
       "    .dataframe tbody tr th:only-of-type {\n",
       "        vertical-align: middle;\n",
       "    }\n",
       "\n",
       "    .dataframe tbody tr th {\n",
       "        vertical-align: top;\n",
       "    }\n",
       "\n",
       "    .dataframe thead th {\n",
       "        text-align: right;\n",
       "    }\n",
       "</style>\n",
       "<table border=\"1\" class=\"dataframe\">\n",
       "  <thead>\n",
       "    <tr style=\"text-align: right;\">\n",
       "      <th></th>\n",
       "      <th>GEOID</th>\n",
       "      <th>ALAND</th>\n",
       "      <th>geometry</th>\n",
       "    </tr>\n",
       "  </thead>\n",
       "  <tbody>\n",
       "    <tr>\n",
       "      <th>0</th>\n",
       "      <td>01089001902</td>\n",
       "      <td>12784312</td>\n",
       "      <td>MULTIPOLYGON(((-86.556074 34.674245,-86.555981...</td>\n",
       "    </tr>\n",
       "    <tr>\n",
       "      <th>1</th>\n",
       "      <td>01089010800</td>\n",
       "      <td>62434260</td>\n",
       "      <td>MULTIPOLYGON(((-86.554613 34.786468,-86.554611...</td>\n",
       "    </tr>\n",
       "    <tr>\n",
       "      <th>2</th>\n",
       "      <td>01089010701</td>\n",
       "      <td>88171204</td>\n",
       "      <td>MULTIPOLYGON(((-86.642866 34.876408,-86.642823...</td>\n",
       "    </tr>\n",
       "  </tbody>\n",
       "</table>\n",
       "</div>"
      ],
      "text/plain": [
       "         GEOID     ALAND                                           geometry\n",
       "0  01089001902  12784312  MULTIPOLYGON(((-86.556074 34.674245,-86.555981...\n",
       "1  01089010800  62434260  MULTIPOLYGON(((-86.554613 34.786468,-86.554611...\n",
       "2  01089010701  88171204  MULTIPOLYGON(((-86.642866 34.876408,-86.642823..."
      ]
     },
     "execution_count": 15,
     "metadata": {},
     "output_type": "execute_result"
    }
   ],
   "source": [
    "cursor.execute(\"SELECT geoid, aland, ST_AsText(geom) FROM tracts LIMIT 3\")\n",
    "rows = cursor.fetchall()\n",
    "gpd.GeoDataFrame(rows, columns=['GEOID', 'ALAND', 'geometry'])"
   ]
  },
  {
   "cell_type": "code",
   "execution_count": 16,
   "metadata": {},
   "outputs": [
    {
     "data": {
      "text/plain": [
       "1393426"
      ]
     },
     "execution_count": 16,
     "metadata": {},
     "output_type": "execute_result"
    }
   ],
   "source": [
    "cursor.execute(\"SELECT count(*) AS exact_count FROM listings\")\n",
    "rows = cursor.fetchall()\n",
    "rows[0][0]"
   ]
  },
  {
   "cell_type": "code",
   "execution_count": 17,
   "metadata": {},
   "outputs": [
    {
     "data": {
      "text/html": [
       "<div>\n",
       "<style scoped>\n",
       "    .dataframe tbody tr th:only-of-type {\n",
       "        vertical-align: middle;\n",
       "    }\n",
       "\n",
       "    .dataframe tbody tr th {\n",
       "        vertical-align: top;\n",
       "    }\n",
       "\n",
       "    .dataframe thead th {\n",
       "        text-align: right;\n",
       "    }\n",
       "</style>\n",
       "<table border=\"1\" class=\"dataframe\">\n",
       "  <thead>\n",
       "    <tr style=\"text-align: right;\">\n",
       "      <th></th>\n",
       "      <th>date</th>\n",
       "      <th>region</th>\n",
       "      <th>bedrooms</th>\n",
       "      <th>rent</th>\n",
       "      <th>sqft</th>\n",
       "      <th>geometry</th>\n",
       "    </tr>\n",
       "  </thead>\n",
       "  <tbody>\n",
       "    <tr>\n",
       "      <th>0</th>\n",
       "      <td>2014-05-11</td>\n",
       "      <td>santabarbara</td>\n",
       "      <td>3</td>\n",
       "      <td>3500.0</td>\n",
       "      <td>1200.0</td>\n",
       "      <td>POINT(-119.726987 34.399757)</td>\n",
       "    </tr>\n",
       "    <tr>\n",
       "      <th>1</th>\n",
       "      <td>2014-05-11</td>\n",
       "      <td>santabarbara</td>\n",
       "      <td>2</td>\n",
       "      <td>850.0</td>\n",
       "      <td>882.0</td>\n",
       "      <td>POINT(-119.855845 34.411019)</td>\n",
       "    </tr>\n",
       "    <tr>\n",
       "      <th>2</th>\n",
       "      <td>2014-05-11</td>\n",
       "      <td>santabarbara</td>\n",
       "      <td>1</td>\n",
       "      <td>1290.0</td>\n",
       "      <td>NaN</td>\n",
       "      <td>POINT(-119.85433 34.410415)</td>\n",
       "    </tr>\n",
       "  </tbody>\n",
       "</table>\n",
       "</div>"
      ],
      "text/plain": [
       "         date        region  bedrooms    rent    sqft  \\\n",
       "0  2014-05-11  santabarbara         3  3500.0  1200.0   \n",
       "1  2014-05-11  santabarbara         2   850.0   882.0   \n",
       "2  2014-05-11  santabarbara         1  1290.0     NaN   \n",
       "\n",
       "                       geometry  \n",
       "0  POINT(-119.726987 34.399757)  \n",
       "1  POINT(-119.855845 34.411019)  \n",
       "2   POINT(-119.85433 34.410415)  "
      ]
     },
     "execution_count": 17,
     "metadata": {},
     "output_type": "execute_result"
    }
   ],
   "source": [
    "cursor.execute(\"\"\"SELECT date, region, bedrooms, rent, sqft, ST_AsText(geom)\n",
    "                  FROM listings LIMIT 3\"\"\")\n",
    "rows = cursor.fetchall()\n",
    "gpd.GeoDataFrame(rows, columns=['date', 'region', 'bedrooms', 'rent', 'sqft', 'geometry'])"
   ]
  },
  {
   "cell_type": "markdown",
   "metadata": {},
   "source": [
    "## all done"
   ]
  },
  {
   "cell_type": "code",
   "execution_count": 18,
   "metadata": {},
   "outputs": [],
   "source": [
    "cursor.close()\n",
    "connection.close()"
   ]
  },
  {
   "cell_type": "code",
   "execution_count": null,
   "metadata": {},
   "outputs": [],
   "source": []
  }
 ],
 "metadata": {
  "kernelspec": {
   "display_name": "Python 3",
   "language": "python",
   "name": "python3"
  },
  "language_info": {
   "codemirror_mode": {
    "name": "ipython",
    "version": 3
   },
   "file_extension": ".py",
   "mimetype": "text/x-python",
   "name": "python",
   "nbconvert_exporter": "python",
   "pygments_lexer": "ipython3",
   "version": "3.6.4"
  }
 },
 "nbformat": 4,
 "nbformat_minor": 2
}
