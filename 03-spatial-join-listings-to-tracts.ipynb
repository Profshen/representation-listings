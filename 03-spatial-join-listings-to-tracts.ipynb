{
 "cells": [
  {
   "cell_type": "code",
   "execution_count": 1,
   "metadata": {},
   "outputs": [],
   "source": [
    "import geopandas as gpd\n",
    "import psycopg2\n",
    "from shapely.wkt import loads as wkt_loads\n",
    "from keys import pg_user, pg_pass, pg_host, pg_port, pg_db\n",
    "\n",
    "output_path = 'data/listings_joined_tracts.csv'"
   ]
  },
  {
   "cell_type": "code",
   "execution_count": 2,
   "metadata": {},
   "outputs": [],
   "source": [
    "connection = psycopg2.connect(database=pg_db,\n",
    "                              user=pg_user,\n",
    "                              password=pg_pass,\n",
    "                              host=pg_host,\n",
    "                              port=pg_port)\n",
    "cursor = connection.cursor()"
   ]
  },
  {
   "cell_type": "code",
   "execution_count": 3,
   "metadata": {},
   "outputs": [
    {
     "data": {
      "text/plain": [
       "[(4326, 4326)]"
      ]
     },
     "execution_count": 3,
     "metadata": {},
     "output_type": "execute_result"
    }
   ],
   "source": [
    "# verify that the SRIDs match\n",
    "cursor.execute(\"\"\"SELECT\n",
    "                      Find_SRID('public', 'tracts', 'geom') as tracts_srid,\n",
    "                      Find_SRID('public', 'listings', 'geom') as listings_srid\"\"\")\n",
    "cursor.fetchall()"
   ]
  },
  {
   "cell_type": "code",
   "execution_count": 4,
   "metadata": {},
   "outputs": [
    {
     "data": {
      "text/plain": [
       "(74133, 1393426)"
      ]
     },
     "execution_count": 4,
     "metadata": {},
     "output_type": "execute_result"
    }
   ],
   "source": [
    "# joining how many rows to how many rows?\n",
    "cursor.execute(\"SELECT count(*) AS row_count FROM tracts\")\n",
    "count_tracts_table = cursor.fetchall()[0][0]\n",
    "cursor.execute(\"SELECT count(*) AS row_count FROM listings\")\n",
    "count_listings_table = cursor.fetchall()[0][0]\n",
    "count_tracts_table, count_listings_table"
   ]
  },
  {
   "cell_type": "markdown",
   "metadata": {},
   "source": [
    "## Do the spatial join"
   ]
  },
  {
   "cell_type": "code",
   "execution_count": 5,
   "metadata": {},
   "outputs": [
    {
     "name": "stdout",
     "output_type": "stream",
     "text": [
      "Wall time: 1min 33s\n"
     ]
    }
   ],
   "source": [
    "%%time\n",
    "# drop the table if it already exists and recreate it\n",
    "# select distinct to keep only one listing/tract pair even if the listing lies on the border of multiple tracts\n",
    "query = \"\"\"\n",
    "        DROP TABLE IF EXISTS listings_tracts;\n",
    "        CREATE TABLE listings_tracts AS\n",
    "        SELECT DISTINCT ON (listing_id)\n",
    "            listings.id AS listing_id,\n",
    "            listings.date AS date,\n",
    "            listings.region AS region,\n",
    "            listings.bedrooms AS bedrooms,\n",
    "            listings.rent AS rent,\n",
    "            listings.sqft AS sqft,\n",
    "            listings.geom AS geometry,\n",
    "            tracts.geoid AS tract_geoid\n",
    "        FROM listings LEFT JOIN tracts\n",
    "        ON ST_Intersects(listings.geom, tracts.geom)\n",
    "        \"\"\"\n",
    "\n",
    "cursor.execute(query)\n",
    "connection.commit()"
   ]
  },
  {
   "cell_type": "code",
   "execution_count": 6,
   "metadata": {},
   "outputs": [
    {
     "name": "stdout",
     "output_type": "stream",
     "text": [
      "Wall time: 1.88 s\n"
     ]
    }
   ],
   "source": [
    "%%time\n",
    "# vacuum and analyze the database to optimize it after building indices and inserting rows\n",
    "old_isolation_level = connection.isolation_level\n",
    "connection.set_isolation_level(0)\n",
    "cursor.execute(\"VACUUM ANALYZE\")\n",
    "connection.commit()\n",
    "connection.set_isolation_level(old_isolation_level)"
   ]
  },
  {
   "cell_type": "markdown",
   "metadata": {},
   "source": [
    "## Retrieve the data"
   ]
  },
  {
   "cell_type": "code",
   "execution_count": 7,
   "metadata": {},
   "outputs": [
    {
     "name": "stdout",
     "output_type": "stream",
     "text": [
      "1393426\n"
     ]
    },
    {
     "data": {
      "text/plain": [
       "[(1393426, 1392866)]"
      ]
     },
     "execution_count": 7,
     "metadata": {},
     "output_type": "execute_result"
    }
   ],
   "source": [
    "# some listings still lack tract geoid, as they are offshore or just across canada/mexico border\n",
    "cursor.execute(\"SELECT count(*) AS row_count, count(tract_geoid) AS geoid_count FROM listings_tracts\")\n",
    "print(count_listings_table)\n",
    "cursor.fetchall()"
   ]
  },
  {
   "cell_type": "code",
   "execution_count": 8,
   "metadata": {},
   "outputs": [
    {
     "name": "stdout",
     "output_type": "stream",
     "text": [
      "Wall time: 5.84 s\n"
     ]
    }
   ],
   "source": [
    "%%time\n",
    "# select the results from the new table, ignoring any listings with null tract_geoid\n",
    "# because they are offshore or just across canada/mexico border\n",
    "cursor.execute(\"\"\"SELECT date, region, bedrooms, rent, sqft, ST_AsText(geometry), tract_geoid\n",
    "                  FROM listings_tracts\n",
    "                  WHERE tract_geoid IS NOT NULL\"\"\")\n",
    "rows = cursor.fetchall()"
   ]
  },
  {
   "cell_type": "code",
   "execution_count": 9,
   "metadata": {},
   "outputs": [],
   "source": [
    "cursor.close()\n",
    "connection.close()"
   ]
  },
  {
   "cell_type": "code",
   "execution_count": 10,
   "metadata": {},
   "outputs": [
    {
     "name": "stdout",
     "output_type": "stream",
     "text": [
      "Wall time: 53.7 s\n"
     ]
    }
   ],
   "source": [
    "%%time\n",
    "# turn the selected rows into a geodataframe\n",
    "gdf = gpd.GeoDataFrame(rows, columns=['date', 'region', 'bedrooms', 'rent', 'sqft', 'geometry', 'tract_geoid'])\n",
    "gdf['geometry'] = gdf['geometry'].map(lambda x: wkt_loads(x))\n",
    "gdf['lat'] = gdf['geometry'].map(lambda pt: pt.y)\n",
    "gdf['lng'] = gdf['geometry'].map(lambda pt: pt.x)\n",
    "gdf = gdf.drop('geometry', axis=1)"
   ]
  },
  {
   "cell_type": "code",
   "execution_count": 11,
   "metadata": {},
   "outputs": [
    {
     "name": "stdout",
     "output_type": "stream",
     "text": [
      "1392866\n"
     ]
    },
    {
     "data": {
      "text/html": [
       "<div>\n",
       "<style scoped>\n",
       "    .dataframe tbody tr th:only-of-type {\n",
       "        vertical-align: middle;\n",
       "    }\n",
       "\n",
       "    .dataframe tbody tr th {\n",
       "        vertical-align: top;\n",
       "    }\n",
       "\n",
       "    .dataframe thead th {\n",
       "        text-align: right;\n",
       "    }\n",
       "</style>\n",
       "<table border=\"1\" class=\"dataframe\">\n",
       "  <thead>\n",
       "    <tr style=\"text-align: right;\">\n",
       "      <th></th>\n",
       "      <th>date</th>\n",
       "      <th>region</th>\n",
       "      <th>bedrooms</th>\n",
       "      <th>rent</th>\n",
       "      <th>sqft</th>\n",
       "      <th>tract_geoid</th>\n",
       "      <th>lat</th>\n",
       "      <th>lng</th>\n",
       "    </tr>\n",
       "  </thead>\n",
       "  <tbody>\n",
       "    <tr>\n",
       "      <th>0</th>\n",
       "      <td>2014-05-11</td>\n",
       "      <td>santabarbara</td>\n",
       "      <td>3.0</td>\n",
       "      <td>3500.0</td>\n",
       "      <td>1200.0</td>\n",
       "      <td>06083001304</td>\n",
       "      <td>34.399757</td>\n",
       "      <td>-119.726987</td>\n",
       "    </tr>\n",
       "    <tr>\n",
       "      <th>1</th>\n",
       "      <td>2014-05-11</td>\n",
       "      <td>santabarbara</td>\n",
       "      <td>2.0</td>\n",
       "      <td>850.0</td>\n",
       "      <td>882.0</td>\n",
       "      <td>06083002924</td>\n",
       "      <td>34.411019</td>\n",
       "      <td>-119.855845</td>\n",
       "    </tr>\n",
       "    <tr>\n",
       "      <th>2</th>\n",
       "      <td>2014-05-11</td>\n",
       "      <td>santabarbara</td>\n",
       "      <td>1.0</td>\n",
       "      <td>1290.0</td>\n",
       "      <td>NaN</td>\n",
       "      <td>06083002924</td>\n",
       "      <td>34.410415</td>\n",
       "      <td>-119.854330</td>\n",
       "    </tr>\n",
       "    <tr>\n",
       "      <th>3</th>\n",
       "      <td>2014-05-11</td>\n",
       "      <td>santabarbara</td>\n",
       "      <td>1.0</td>\n",
       "      <td>1660.0</td>\n",
       "      <td>NaN</td>\n",
       "      <td>06083000102</td>\n",
       "      <td>34.441460</td>\n",
       "      <td>-119.754324</td>\n",
       "    </tr>\n",
       "    <tr>\n",
       "      <th>4</th>\n",
       "      <td>2014-05-11</td>\n",
       "      <td>santabarbara</td>\n",
       "      <td>2.0</td>\n",
       "      <td>3200.0</td>\n",
       "      <td>NaN</td>\n",
       "      <td>06083002924</td>\n",
       "      <td>34.410416</td>\n",
       "      <td>-119.854530</td>\n",
       "    </tr>\n",
       "  </tbody>\n",
       "</table>\n",
       "</div>"
      ],
      "text/plain": [
       "         date        region  bedrooms    rent    sqft  tract_geoid        lat  \\\n",
       "0  2014-05-11  santabarbara       3.0  3500.0  1200.0  06083001304  34.399757   \n",
       "1  2014-05-11  santabarbara       2.0   850.0   882.0  06083002924  34.411019   \n",
       "2  2014-05-11  santabarbara       1.0  1290.0     NaN  06083002924  34.410415   \n",
       "3  2014-05-11  santabarbara       1.0  1660.0     NaN  06083000102  34.441460   \n",
       "4  2014-05-11  santabarbara       2.0  3200.0     NaN  06083002924  34.410416   \n",
       "\n",
       "          lng  \n",
       "0 -119.726987  \n",
       "1 -119.855845  \n",
       "2 -119.854330  \n",
       "3 -119.754324  \n",
       "4 -119.854530  "
      ]
     },
     "execution_count": 11,
     "metadata": {},
     "output_type": "execute_result"
    }
   ],
   "source": [
    "print(len(gdf))\n",
    "gdf.head()"
   ]
  },
  {
   "cell_type": "code",
   "execution_count": 12,
   "metadata": {},
   "outputs": [
    {
     "name": "stdout",
     "output_type": "stream",
     "text": [
      "Wall time: 10 s\n"
     ]
    }
   ],
   "source": [
    "%%time\n",
    "gdf.to_csv(output_path, encoding='utf-8', index=False)"
   ]
  },
  {
   "cell_type": "code",
   "execution_count": null,
   "metadata": {},
   "outputs": [],
   "source": []
  }
 ],
 "metadata": {
  "kernelspec": {
   "display_name": "Python 3",
   "language": "python",
   "name": "python3"
  },
  "language_info": {
   "codemirror_mode": {
    "name": "ipython",
    "version": 3
   },
   "file_extension": ".py",
   "mimetype": "text/x-python",
   "name": "python",
   "nbconvert_exporter": "python",
   "pygments_lexer": "ipython3",
   "version": "3.6.4"
  }
 },
 "nbformat": 4,
 "nbformat_minor": 2
}
