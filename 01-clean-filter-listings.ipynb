{
 "cells": [
  {
   "cell_type": "code",
   "execution_count": 1,
   "metadata": {},
   "outputs": [],
   "source": [
    "import numpy as np\n",
    "import pandas as pd\n",
    "from keys import all_craigslist_listings_path\n",
    "\n",
    "output_path = 'data/craigslist_listings_cleaned.csv'"
   ]
  },
  {
   "cell_type": "markdown",
   "metadata": {},
   "source": [
    "## Load the data"
   ]
  },
  {
   "cell_type": "code",
   "execution_count": 2,
   "metadata": {},
   "outputs": [],
   "source": [
    "# function to convert string to float and handle empty string as NaN\n",
    "def to_float(string_value):\n",
    "    string_value = string_value.strip()\n",
    "    return np.float(string_value) if string_value else np.nan\n",
    "\n",
    "# load the full combined data set, converting numeric columns to float using to_float\n",
    "converters = {'neighborhood':str, \n",
    "              'title':str, \n",
    "              'price':to_float, \n",
    "              'bedrooms':to_float, \n",
    "              'pid':str, \n",
    "              'date':str, \n",
    "              'link':str, \n",
    "              'sqft':to_float, \n",
    "              'sourcepage':str, \n",
    "              'longitude':to_float, \n",
    "              'latitude':to_float}"
   ]
  },
  {
   "cell_type": "code",
   "execution_count": 3,
   "metadata": {},
   "outputs": [
    {
     "name": "stdout",
     "output_type": "stream",
     "text": [
      "10958372\n",
      "Wall time: 1min 40s\n"
     ]
    }
   ],
   "source": [
    "%%time\n",
    "all_listings = pd.read_csv(all_craigslist_listings_path, converters=converters)\n",
    "all_listings = all_listings.rename(columns={'price':'rent', 'longitude':'lng', 'latitude':'lat'})\n",
    "print(len(all_listings))"
   ]
  },
  {
   "cell_type": "markdown",
   "metadata": {},
   "source": [
    "## Filter the data"
   ]
  },
  {
   "cell_type": "code",
   "execution_count": 4,
   "metadata": {},
   "outputs": [
    {
     "data": {
      "text/plain": [
       "5480435"
      ]
     },
     "execution_count": 4,
     "metadata": {},
     "output_type": "execute_result"
    }
   ],
   "source": [
    "# de-dupe rows by PID\n",
    "df = all_listings.drop_duplicates(subset='pid')\n",
    "len(df)"
   ]
  },
  {
   "cell_type": "code",
   "execution_count": 5,
   "metadata": {},
   "outputs": [
    {
     "data": {
      "text/plain": [
       "2335741"
      ]
     },
     "execution_count": 5,
     "metadata": {},
     "output_type": "execute_result"
    }
   ],
   "source": [
    "# retain only rows containing latlng data\n",
    "mask = (pd.notnull(df['lng'])) & (pd.notnull(df['lat']))\n",
    "df = df[mask]\n",
    "len(df)"
   ]
  },
  {
   "cell_type": "code",
   "execution_count": 6,
   "metadata": {},
   "outputs": [
    {
     "name": "stdout",
     "output_type": "stream",
     "text": [
      "valid rent range: 100 - 10000\n",
      "valid sqft range: 220 - 5100\n"
     ]
    }
   ],
   "source": [
    "# define percentiles for valid values\n",
    "upper_pctl = 0.998\n",
    "lower_pctl = 0.002\n",
    "\n",
    "upper_rent = df['rent'].quantile(q=upper_pctl, interpolation='higher')\n",
    "lower_rent = df['rent'].quantile(q=lower_pctl, interpolation='lower')\n",
    "\n",
    "upper_sqft = df['sqft'].quantile(q=upper_pctl, interpolation='higher')\n",
    "lower_sqft = df['sqft'].quantile(q=lower_pctl, interpolation='lower')\n",
    "\n",
    "print('valid rent range: {:.0f} - {:.0f}'.format(lower_rent, upper_rent))\n",
    "print('valid sqft range: {:.0f} - {:.0f}'.format(lower_sqft, upper_sqft))"
   ]
  },
  {
   "cell_type": "code",
   "execution_count": 7,
   "metadata": {},
   "outputs": [
    {
     "data": {
      "text/plain": [
       "2321070"
      ]
     },
     "execution_count": 7,
     "metadata": {},
     "output_type": "execute_result"
    }
   ],
   "source": [
    "# filter out any rows with rent or sqft outside of the reasonable values (but keep nulls)\n",
    "rent_mask = ((df['rent'] > lower_rent) & (df['rent'] < upper_rent)) | (pd.isnull(df['rent']))\n",
    "sqft_mask = ((df['sqft'] > lower_sqft) & (df['sqft'] < upper_sqft)) | (pd.isnull(df['sqft']))\n",
    "df = pd.DataFrame(df[rent_mask & sqft_mask])\n",
    "len(df)"
   ]
  },
  {
   "cell_type": "code",
   "execution_count": 8,
   "metadata": {},
   "outputs": [
    {
     "data": {
      "text/plain": [
       "1393426"
      ]
     },
     "execution_count": 8,
     "metadata": {},
     "output_type": "execute_result"
    }
   ],
   "source": [
    "# filter out any rows with duplicate (and non-null) values across all of these columns\n",
    "not_null = pd.notnull(df['rent']) & pd.notnull(df['bedrooms'])\n",
    "duplicated = df.duplicated(subset=['rent', 'sqft', 'bedrooms', 'neighborhood'], keep='first')\n",
    "df = df[~(not_null & duplicated)]\n",
    "len(df)"
   ]
  },
  {
   "cell_type": "markdown",
   "metadata": {},
   "source": [
    "## Create and clean up features"
   ]
  },
  {
   "cell_type": "code",
   "execution_count": 9,
   "metadata": {},
   "outputs": [],
   "source": [
    "# extract the subdomain/region from the link column\n",
    "df['region'] = df['link'].str.extract('http://(.*).craigslist.org', expand=False)"
   ]
  },
  {
   "cell_type": "code",
   "execution_count": 10,
   "metadata": {},
   "outputs": [],
   "source": [
    "# drop unnecessary columns and reindex\n",
    "df = df.drop(columns=['title', 'neighborhood', 'link', 'sourcepage', 'pid'])\n",
    "df = df.reindex(columns=['date', 'region', 'bedrooms', 'rent', 'sqft', 'lat', 'lng'])"
   ]
  },
  {
   "cell_type": "code",
   "execution_count": 11,
   "metadata": {},
   "outputs": [
    {
     "data": {
      "text/html": [
       "<div>\n",
       "<style scoped>\n",
       "    .dataframe tbody tr th:only-of-type {\n",
       "        vertical-align: middle;\n",
       "    }\n",
       "\n",
       "    .dataframe tbody tr th {\n",
       "        vertical-align: top;\n",
       "    }\n",
       "\n",
       "    .dataframe thead th {\n",
       "        text-align: right;\n",
       "    }\n",
       "</style>\n",
       "<table border=\"1\" class=\"dataframe\">\n",
       "  <thead>\n",
       "    <tr style=\"text-align: right;\">\n",
       "      <th></th>\n",
       "      <th>date</th>\n",
       "      <th>region</th>\n",
       "      <th>bedrooms</th>\n",
       "      <th>rent</th>\n",
       "      <th>sqft</th>\n",
       "      <th>lat</th>\n",
       "      <th>lng</th>\n",
       "    </tr>\n",
       "  </thead>\n",
       "  <tbody>\n",
       "    <tr>\n",
       "      <th>1</th>\n",
       "      <td>2014-05-11</td>\n",
       "      <td>santabarbara</td>\n",
       "      <td>3.0</td>\n",
       "      <td>3500.0</td>\n",
       "      <td>1200.0</td>\n",
       "      <td>34.399757</td>\n",
       "      <td>-119.726987</td>\n",
       "    </tr>\n",
       "    <tr>\n",
       "      <th>2</th>\n",
       "      <td>2014-05-11</td>\n",
       "      <td>santabarbara</td>\n",
       "      <td>2.0</td>\n",
       "      <td>850.0</td>\n",
       "      <td>882.0</td>\n",
       "      <td>34.411019</td>\n",
       "      <td>-119.855845</td>\n",
       "    </tr>\n",
       "    <tr>\n",
       "      <th>4</th>\n",
       "      <td>2014-05-11</td>\n",
       "      <td>santabarbara</td>\n",
       "      <td>1.0</td>\n",
       "      <td>1290.0</td>\n",
       "      <td>NaN</td>\n",
       "      <td>34.410415</td>\n",
       "      <td>-119.854330</td>\n",
       "    </tr>\n",
       "    <tr>\n",
       "      <th>5</th>\n",
       "      <td>2014-05-11</td>\n",
       "      <td>santabarbara</td>\n",
       "      <td>1.0</td>\n",
       "      <td>1660.0</td>\n",
       "      <td>NaN</td>\n",
       "      <td>34.441460</td>\n",
       "      <td>-119.754324</td>\n",
       "    </tr>\n",
       "    <tr>\n",
       "      <th>6</th>\n",
       "      <td>2014-05-11</td>\n",
       "      <td>santabarbara</td>\n",
       "      <td>2.0</td>\n",
       "      <td>3200.0</td>\n",
       "      <td>NaN</td>\n",
       "      <td>34.410416</td>\n",
       "      <td>-119.854530</td>\n",
       "    </tr>\n",
       "  </tbody>\n",
       "</table>\n",
       "</div>"
      ],
      "text/plain": [
       "         date        region  bedrooms    rent    sqft        lat         lng\n",
       "1  2014-05-11  santabarbara       3.0  3500.0  1200.0  34.399757 -119.726987\n",
       "2  2014-05-11  santabarbara       2.0   850.0   882.0  34.411019 -119.855845\n",
       "4  2014-05-11  santabarbara       1.0  1290.0     NaN  34.410415 -119.854330\n",
       "5  2014-05-11  santabarbara       1.0  1660.0     NaN  34.441460 -119.754324\n",
       "6  2014-05-11  santabarbara       2.0  3200.0     NaN  34.410416 -119.854530"
      ]
     },
     "execution_count": 11,
     "metadata": {},
     "output_type": "execute_result"
    }
   ],
   "source": [
    "df.head()"
   ]
  },
  {
   "cell_type": "markdown",
   "metadata": {},
   "source": [
    "## Save to disk"
   ]
  },
  {
   "cell_type": "code",
   "execution_count": 12,
   "metadata": {},
   "outputs": [
    {
     "name": "stdout",
     "output_type": "stream",
     "text": [
      "data/craigslist_listings_cleaned.csv\n",
      "Wall time: 9.78 s\n"
     ]
    }
   ],
   "source": [
    "%%time\n",
    "df.to_csv(output_path, index=False, encoding='utf-8')\n",
    "print(output_path)"
   ]
  },
  {
   "cell_type": "code",
   "execution_count": null,
   "metadata": {},
   "outputs": [],
   "source": []
  }
 ],
 "metadata": {
  "kernelspec": {
   "display_name": "Python 3",
   "language": "python",
   "name": "python3"
  },
  "language_info": {
   "codemirror_mode": {
    "name": "ipython",
    "version": 3
   },
   "file_extension": ".py",
   "mimetype": "text/x-python",
   "name": "python",
   "nbconvert_exporter": "python",
   "pygments_lexer": "ipython3",
   "version": "3.6.4"
  }
 },
 "nbformat": 4,
 "nbformat_minor": 2
}
