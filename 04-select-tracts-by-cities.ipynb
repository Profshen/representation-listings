{
 "cells": [
  {
   "cell_type": "markdown",
   "metadata": {},
   "source": [
    "# Get all tracts within certain cities\n",
    "\n",
    "Given a CSV file containing city names, get all the tracts within those cities' boundaries."
   ]
  },
  {
   "cell_type": "code",
   "execution_count": 1,
   "metadata": {},
   "outputs": [],
   "source": [
    "import geopandas as gpd\n",
    "import json\n",
    "import os\n",
    "import pandas as pd\n",
    "\n",
    "all_tracts_path = 'data/us_census_tracts_2014'\n",
    "places_path = 'data/us_census_places_2014'\n",
    "states_by_fips_path = 'data/states_by_fips.json'\n",
    "cities_path = 'data/study_sites.csv'\n",
    "output_path = 'data/tracts_in_cities_study_area.geojson'"
   ]
  },
  {
   "cell_type": "code",
   "execution_count": 2,
   "metadata": {},
   "outputs": [
    {
     "data": {
      "text/plain": [
       "50"
      ]
     },
     "execution_count": 2,
     "metadata": {},
     "output_type": "execute_result"
    }
   ],
   "source": [
    "# load the city names that make up our study sites\n",
    "study_sites = pd.read_csv(cities_path, encoding='utf-8')\n",
    "len(study_sites)"
   ]
  },
  {
   "cell_type": "code",
   "execution_count": 3,
   "metadata": {},
   "outputs": [
    {
     "name": "stdout",
     "output_type": "stream",
     "text": [
      "Wall time: 16.6 s\n"
     ]
    }
   ],
   "source": [
    "%%time\n",
    "# load all US census tracts shapefile\n",
    "all_tracts = gpd.read_file(all_tracts_path)\n",
    "len(all_tracts)"
   ]
  },
  {
   "cell_type": "code",
   "execution_count": 4,
   "metadata": {},
   "outputs": [
    {
     "name": "stdout",
     "output_type": "stream",
     "text": [
      "Wall time: 13.6 s\n"
     ]
    }
   ],
   "source": [
    "%%time\n",
    "# load all US places (cities/towns) shapefile\n",
    "places = gpd.GeoDataFrame()\n",
    "for folder in os.listdir(places_path):\n",
    "    path = '{}/{}'.format(places_path, folder)\n",
    "    gdf_tmp = gpd.read_file(path)\n",
    "    places = places.append(gdf_tmp)\n",
    "len(places)"
   ]
  },
  {
   "cell_type": "code",
   "execution_count": 5,
   "metadata": {},
   "outputs": [],
   "source": [
    "# get state abbreviation from FIPS\n",
    "with open(states_by_fips_path) as f:\n",
    "    states = json.load(f)\n",
    "fips_state = {k:v['abbreviation'] for k, v in states.items()}\n",
    "places['state'] = places['STATEFP'].replace(fips_state, inplace=False)"
   ]
  },
  {
   "cell_type": "code",
   "execution_count": 6,
   "metadata": {},
   "outputs": [],
   "source": [
    "cities_states = study_sites.apply(lambda row: '{}, {}'.format(row['city'], row['state']), axis=1)"
   ]
  },
  {
   "cell_type": "code",
   "execution_count": 7,
   "metadata": {},
   "outputs": [
    {
     "data": {
      "text/plain": [
       "50"
      ]
     },
     "execution_count": 7,
     "metadata": {},
     "output_type": "execute_result"
    }
   ],
   "source": [
    "# find these city names in the GDF of all census places\n",
    "gdf_cities = gpd.GeoDataFrame()\n",
    "for city_state in cities_states:\n",
    "    city, state = [item.strip() for item in city_state.split(',')]\n",
    "    \n",
    "    mask = (places['NAME']==city) & (places['state']==state)\n",
    "    if not mask.sum()==1:\n",
    "        mask = (places['NAME'].str.contains(city)) & (places['state']==state)\n",
    "        if not mask.sum()==1:\n",
    "            mask = (places['NAME'].str.contains(city)) & (places['state']==state) & ~(places['NAMELSAD'].str.contains('CDP'))\n",
    "            if not mask.sum()==1:\n",
    "                print('Cannot uniquely find \"{}\"'.format(city_state))\n",
    "                \n",
    "    gdf_city = places.loc[mask]\n",
    "    gdf_cities = gdf_cities.append(gdf_city)\n",
    "    \n",
    "len(gdf_cities)"
   ]
  },
  {
   "cell_type": "code",
   "execution_count": 8,
   "metadata": {},
   "outputs": [],
   "source": [
    "# make \"name\" field like \"city, state\"\n",
    "gdf_cities['name'] = gdf_cities.apply(lambda row: '{}, {}'.format(row['NAME'], row['state']), axis=1)\n",
    "gdf_cities['name'] = gdf_cities['name'].replace({'Indianapolis city (balance), IN' : 'Indianapolis, IN',\n",
    "                                                 'Nashville-Davidson metropolitan government (balance), TN' : 'Nashville, TN'})"
   ]
  },
  {
   "cell_type": "code",
   "execution_count": 9,
   "metadata": {},
   "outputs": [],
   "source": [
    "# make gdf of the cities for joining\n",
    "cities = gdf_cities[['GEOID', 'name', 'geometry']]\n",
    "cities = cities.rename(columns={'GEOID':'place_geoid', 'name':'place_name'})\n",
    "cities = cities.set_index('place_geoid')\n",
    "\n",
    "# make gdf of the tracts for joining\n",
    "tract_geoms = all_tracts.set_index('GEOID')[['geometry', 'ALAND']]"
   ]
  },
  {
   "cell_type": "code",
   "execution_count": 10,
   "metadata": {},
   "outputs": [
    {
     "name": "stdout",
     "output_type": "stream",
     "text": [
      "Wall time: 29.3 s\n"
     ]
    }
   ],
   "source": [
    "%%time\n",
    "# shrink tracts by ~1 meter to avoid peripheral touches on the outside of the city boundary\n",
    "tract_geoms['geom_tmp'] = tract_geoms['geometry'].buffer(-0.00001)\n",
    "tract_geoms = tract_geoms.set_geometry('geom_tmp')"
   ]
  },
  {
   "cell_type": "code",
   "execution_count": 11,
   "metadata": {},
   "outputs": [
    {
     "name": "stdout",
     "output_type": "stream",
     "text": [
      "12505\n",
      "Wall time: 14.3 s\n"
     ]
    }
   ],
   "source": [
    "%%time\n",
    "assert tract_geoms.crs == cities.crs\n",
    "tracts = gpd.sjoin(tract_geoms, cities, how='inner', op='intersects')\n",
    "print(len(tracts))"
   ]
  },
  {
   "cell_type": "code",
   "execution_count": 12,
   "metadata": {},
   "outputs": [
    {
     "data": {
      "text/html": [
       "<div>\n",
       "<style scoped>\n",
       "    .dataframe tbody tr th:only-of-type {\n",
       "        vertical-align: middle;\n",
       "    }\n",
       "\n",
       "    .dataframe tbody tr th {\n",
       "        vertical-align: top;\n",
       "    }\n",
       "\n",
       "    .dataframe thead th {\n",
       "        text-align: right;\n",
       "    }\n",
       "</style>\n",
       "<table border=\"1\" class=\"dataframe\">\n",
       "  <thead>\n",
       "    <tr style=\"text-align: right;\">\n",
       "      <th></th>\n",
       "      <th>geometry</th>\n",
       "      <th>ALAND</th>\n",
       "      <th>place_geoid</th>\n",
       "      <th>place_name</th>\n",
       "    </tr>\n",
       "  </thead>\n",
       "  <tbody>\n",
       "    <tr>\n",
       "      <th>01073005103</th>\n",
       "      <td>POLYGON ((-86.840604 33.474255, -86.8405339999...</td>\n",
       "      <td>1738959</td>\n",
       "      <td>0107000</td>\n",
       "      <td>Birmingham, AL</td>\n",
       "    </tr>\n",
       "    <tr>\n",
       "      <th>01073004902</th>\n",
       "      <td>POLYGON ((-86.80923399999999 33.48756, -86.809...</td>\n",
       "      <td>1148589</td>\n",
       "      <td>0107000</td>\n",
       "      <td>Birmingham, AL</td>\n",
       "    </tr>\n",
       "    <tr>\n",
       "      <th>01073005909</th>\n",
       "      <td>POLYGON ((-86.74520699999999 33.610235, -86.74...</td>\n",
       "      <td>4516001</td>\n",
       "      <td>0107000</td>\n",
       "      <td>Birmingham, AL</td>\n",
       "    </tr>\n",
       "    <tr>\n",
       "      <th>01073012304</th>\n",
       "      <td>POLYGON ((-86.9791 33.497596, -86.978972 33.49...</td>\n",
       "      <td>7546587</td>\n",
       "      <td>0107000</td>\n",
       "      <td>Birmingham, AL</td>\n",
       "    </tr>\n",
       "    <tr>\n",
       "      <th>01073012305</th>\n",
       "      <td>POLYGON ((-87.01625 33.481515, -87.016122 33.4...</td>\n",
       "      <td>15730698</td>\n",
       "      <td>0107000</td>\n",
       "      <td>Birmingham, AL</td>\n",
       "    </tr>\n",
       "  </tbody>\n",
       "</table>\n",
       "</div>"
      ],
      "text/plain": [
       "                                                      geometry     ALAND  \\\n",
       "01073005103  POLYGON ((-86.840604 33.474255, -86.8405339999...   1738959   \n",
       "01073004902  POLYGON ((-86.80923399999999 33.48756, -86.809...   1148589   \n",
       "01073005909  POLYGON ((-86.74520699999999 33.610235, -86.74...   4516001   \n",
       "01073012304  POLYGON ((-86.9791 33.497596, -86.978972 33.49...   7546587   \n",
       "01073012305  POLYGON ((-87.01625 33.481515, -87.016122 33.4...  15730698   \n",
       "\n",
       "            place_geoid      place_name  \n",
       "01073005103     0107000  Birmingham, AL  \n",
       "01073004902     0107000  Birmingham, AL  \n",
       "01073005909     0107000  Birmingham, AL  \n",
       "01073012304     0107000  Birmingham, AL  \n",
       "01073012305     0107000  Birmingham, AL  "
      ]
     },
     "execution_count": 12,
     "metadata": {},
     "output_type": "execute_result"
    }
   ],
   "source": [
    "# remove the temporary shrunken geometry\n",
    "tracts = tracts.set_geometry('geometry').drop(columns=['geom_tmp'])\n",
    "tracts = tracts.rename(columns={'index_right':'place_geoid'})\n",
    "tracts.head()"
   ]
  },
  {
   "cell_type": "code",
   "execution_count": 13,
   "metadata": {},
   "outputs": [
    {
     "name": "stdout",
     "output_type": "stream",
     "text": [
      "data/tracts_in_cities_study_area.geojson\n",
      "Wall time: 17 s\n"
     ]
    }
   ],
   "source": [
    "%%time\n",
    "gdf_save = tracts.reset_index().rename(columns={'index':'GEOID'})\n",
    "os.remove(output_path) # due to overwriting bug in fiona\n",
    "gdf_save.to_file(output_path, driver='GeoJSON')\n",
    "print(output_path)"
   ]
  },
  {
   "cell_type": "code",
   "execution_count": null,
   "metadata": {},
   "outputs": [],
   "source": []
  }
 ],
 "metadata": {
  "kernelspec": {
   "display_name": "Python 3",
   "language": "python",
   "name": "python3"
  },
  "language_info": {
   "codemirror_mode": {
    "name": "ipython",
    "version": 3
   },
   "file_extension": ".py",
   "mimetype": "text/x-python",
   "name": "python",
   "nbconvert_exporter": "python",
   "pygments_lexer": "ipython3",
   "version": "3.6.4"
  }
 },
 "nbformat": 4,
 "nbformat_minor": 2
}
